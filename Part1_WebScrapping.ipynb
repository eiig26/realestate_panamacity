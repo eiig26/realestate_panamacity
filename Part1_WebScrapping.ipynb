{
  "nbformat": 4,
  "nbformat_minor": 0,
  "metadata": {
    "colab": {
      "provenance": []
    },
    "kernelspec": {
      "name": "python3",
      "display_name": "Python 3"
    },
    "language_info": {
      "name": "python"
    }
  },
  "cells": [
    {
      "cell_type": "markdown",
      "source": [
        "# **\"From Web Scraping to Machine Learning: Understanding Panama City's Real Estate with Python\"**"
      ],
      "metadata": {
        "id": "4sGfsvQ6qcVH"
      }
    },
    {
      "cell_type": "markdown",
      "source": [
        "## **Introduction**\n",
        "We explore the dynamic real estate landscape in Panama City! In this data science journey, we explore on a fascinating research of apartment information sourced directly from the [ACOBIR website](https://www.acobir.com/proyectos/buscador/?category_search=&location_search=). ACOBIR, the Panamanian Chamber of Real Estate Brokers and Developers, provides a lot of data that allows us to gain insights into the property market of Panama City.\n",
        "\n",
        "Our goal isn't just to gather data but to know all about behind each apartment listing. From web scraping ACOBIR's pages to unleashing the power of machine learning, this project is a comprehensive endeavor to decode the factors influencing property prices in this amazing city.\n",
        "\n",
        "We start with data cleaning, data visualization, and predictive modeling. By the end of this journey, we aim not only to understand the current state of the real estate market but to predict property prices and recommend projects that align with the city's unique dynamics.\n",
        "\n"
      ],
      "metadata": {
        "id": "_xMu6BeqqQL9"
      }
    },
    {
      "cell_type": "markdown",
      "source": [
        "## **The Story Unveiled in Code:**\n",
        "### **1. Web Scraping: Unearthing the Hidden Gems**\n",
        "The journey begins with web scraping, where we extract valuable information from ACOBIR's website. Through Python's powerful libraries such as BeautifulSoup and Requests, we navigate through the pages, collecting details on apartment features, locations, and prices. This process forms the foundation of our dataset, a treasure trove of insights waiting to be discovered."
      ],
      "metadata": {
        "id": "LYMaVUATrxeF"
      }
    },
    {
      "cell_type": "markdown",
      "source": [
        "**Step #1 - Web Scrapping Page 1 (Get URL of each Apartment Project) (This page the URL is different of the other pages)**"
      ],
      "metadata": {
        "id": "wftrUfp_0dg1"
      }
    },
    {
      "cell_type": "code",
      "execution_count": null,
      "metadata": {
        "id": "aUbZ4Ue8lLuv",
        "colab": {
          "base_uri": "https://localhost:8080/"
        },
        "outputId": "e877cfc1-8d90-4b96-a6cd-18231e1727a7"
      },
      "outputs": [
        {
          "output_type": "stream",
          "name": "stdout",
          "text": [
            "9 Collected URL's\n",
            "['https://www.acobir.com/proyectos/list/amazonas-bella-vista/', 'https://www.acobir.com/proyectos/list/torres-del-norte/', 'https://www.acobir.com/proyectos/list/allure-at-punta-pacifica/', 'https://www.acobir.com/proyectos/list/the-edge-marbella-1/', 'https://www.acobir.com/proyectos/list/alexa-bella-vista-1/', 'https://www.acobir.com/proyectos/list/mi-condado/', 'https://www.acobir.com/proyectos/list/torres-de-castilla-via-espana/', 'https://www.acobir.com/proyectos/list/ph-sabana-tower/', 'https://www.acobir.com/proyectos/list/torres-de-espana/']\n"
          ]
        }
      ],
      "source": [
        "from bs4 import BeautifulSoup\n",
        "import requests\n",
        "\n",
        "#Code for scrap URL of the project en page 1\n",
        "base_url = \"https://www.acobir.com/proyectos/buscador/?category_search=2780&expresion_search=&price_range=0%2C1000000&page=\"\n",
        "response = requests.get(base_url)\n",
        "soup = BeautifulSoup(response.content, 'html.parser')\n",
        "more_info_links = []\n",
        "\n",
        "# Use find_all to get all the <a> tags with class \"actionbutton\"\n",
        "action_buttons = soup.find_all(\"a\", class_=\"actionbutton\")\n",
        "\n",
        "# Iterate over the action_buttons to extract the href attribute from each <a> tag\n",
        "for action_button in action_buttons:\n",
        "    more_info_url = \"https://www.acobir.com\" + action_button['href']\n",
        "    more_info_links.append(more_info_url)\n",
        "\n",
        "#Display our work in Step #1\n",
        "print(len(more_info_links), \"Collected URL's\")\n",
        "print(more_info_links)\n",
        "\n"
      ]
    },
    {
      "cell_type": "markdown",
      "source": [
        "**Step #2 - Web Scrapping Page 2 to 8**"
      ],
      "metadata": {
        "id": "KPvcNASv0t-Y"
      }
    },
    {
      "cell_type": "code",
      "source": [
        "base_url2 = \"https://www.acobir.com/proyectos/buscador/page\"\n",
        "more_info_links2 = []\n",
        "\n",
        "#Code for scrap URL of the project en pages 2 - 8 using a \"for\" loop\n",
        "for page in range(2, 8):\n",
        "    url = base_url2 + str(page) + \"?category_search=2780&price_range=0%2C1000000\"\n",
        "    response2 = requests.get(url)\n",
        "    soup = BeautifulSoup(response2.content, 'html.parser')\n",
        "\n",
        "    # Use find_all to get all the <a> tags with class \"actionbutton\"\n",
        "    action_buttons2 = soup.find_all(\"a\", class_=\"actionbutton\")\n",
        "\n",
        "    # Iterate over the action_buttons to extract the href attribute from each <a> tag\n",
        "    for action_button in action_buttons2:\n",
        "      more_info_url2 = \"https://www.acobir.com\" + action_button['href']\n",
        "      more_info_links2.append(more_info_url2)\n",
        "\n",
        "#Display our work in Step #2\n",
        "print(len(more_info_links2), \"Collected URL's\")\n",
        "\n",
        "\n",
        "#Combine the results of Step #1 and Step #2\n",
        "more_info_links.extend(more_info_links2)\n",
        "\n",
        "#Display our work in Step #1 and Step #2\n",
        "print(len(more_info_links), \"Collected URL's in total\")\n",
        "print(more_info_links)\n"
      ],
      "metadata": {
        "id": "gO9X9BxGrJLf",
        "colab": {
          "base_uri": "https://localhost:8080/"
        },
        "outputId": "bc5f25ea-1942-4df2-95ee-f8f2408af348"
      },
      "execution_count": null,
      "outputs": [
        {
          "output_type": "stream",
          "name": "stdout",
          "text": [
            "50 Collected URL's\n",
            "59 Collected URL's in total\n",
            "['https://www.acobir.com/proyectos/list/amazonas-bella-vista/', 'https://www.acobir.com/proyectos/list/torres-del-norte/', 'https://www.acobir.com/proyectos/list/allure-at-punta-pacifica/', 'https://www.acobir.com/proyectos/list/the-edge-marbella-1/', 'https://www.acobir.com/proyectos/list/alexa-bella-vista-1/', 'https://www.acobir.com/proyectos/list/mi-condado/', 'https://www.acobir.com/proyectos/list/torres-de-castilla-via-espana/', 'https://www.acobir.com/proyectos/list/ph-sabana-tower/', 'https://www.acobir.com/proyectos/list/torres-de-espana/', 'https://www.acobir.com/proyectos/list/ph-demetra/', 'https://www.acobir.com/proyectos/list/prestige-bella-vista/', 'https://www.acobir.com/proyectos/list/mansion-baluarte/', 'https://www.acobir.com/proyectos/list/santa-teresita-living/', 'https://www.acobir.com/proyectos/list/casa-variedades/', 'https://www.acobir.com/proyectos/list/forest-gate-en-albrook/', 'https://www.acobir.com/proyectos/list/mei-tower-en-villa-de-las-fuentes/', 'https://www.acobir.com/proyectos/list/nostrum-obarrio/', 'https://www.acobir.com/proyectos/list/more-via-argentina/', 'https://www.acobir.com/proyectos/list/ph-aurora/', 'https://www.acobir.com/proyectos/list/balcony/', 'https://www.acobir.com/proyectos/list/altamira-residences/', 'https://www.acobir.com/proyectos/list/lefevre-75/', 'https://www.acobir.com/proyectos/list/clayton-park/', 'https://www.acobir.com/proyectos/list/reserva-santa-fe-apartamentos/', 'https://www.acobir.com/proyectos/list/torres-de-cantabria/', 'https://www.acobir.com/proyectos/list/torres-de-versalles/', 'https://www.acobir.com/proyectos/list/van-gogh-1/', 'https://www.acobir.com/proyectos/list/p.h-bay-view-ciudad-panama/', 'https://www.acobir.com/proyectos/list/the-sands/', 'https://www.acobir.com/proyectos/list/the-gray/', 'https://www.acobir.com/proyectos/list/torre-mondrian/', 'https://www.acobir.com/proyectos/list/ph-ten-tower-costa-del-este/', 'https://www.acobir.com/proyectos/list/sercotel-princess/', 'https://www.acobir.com/proyectos/list/vivendi-green/', 'https://www.acobir.com/proyectos/list/elite-500/', 'https://www.acobir.com/proyectos/list/el-mare-700/', 'https://www.acobir.com/proyectos/list/ocean-front/', 'https://www.acobir.com/proyectos/list/pacific-park/', 'https://www.acobir.com/proyectos/list/deluxe-residences/', 'https://www.acobir.com/proyectos/list/luxor-400/', 'https://www.acobir.com/proyectos/list/costanera/', 'https://www.acobir.com/proyectos/list/zafiro-residences/', 'https://www.acobir.com/proyectos/list/panorama-360/', 'https://www.acobir.com/proyectos/list/greenwood-tower-100-y-200/', 'https://www.acobir.com/proyectos/list/ph-casco-view/', 'https://www.acobir.com/proyectos/list/spotlight/', 'https://www.acobir.com/proyectos/list/portofino-towers/', 'https://www.acobir.com/proyectos/list/bonavista-at-the-park/', 'https://www.acobir.com/proyectos/list/victoria-royale-1/', 'https://www.acobir.com/proyectos/list/condado-country-club/', 'https://www.acobir.com/proyectos/list/ph-paramount-1/', 'https://www.acobir.com/proyectos/list/la-sierra-1/', 'https://www.acobir.com/proyectos/list/portoalegre/', 'https://www.acobir.com/proyectos/list/hacienda-golf-torre-2/', 'https://www.acobir.com/proyectos/list/hacienda-golf-torre-1/', 'https://www.acobir.com/proyectos/list/avinon/', 'https://www.acobir.com/proyectos/list/lov-san-francisco/', 'https://www.acobir.com/proyectos/list/p.h-rokas/', 'https://www.acobir.com/proyectos/list/bellanatura-1/']\n"
          ]
        }
      ]
    },
    {
      "cell_type": "markdown",
      "source": [
        "**Step #3 - Web Scrapping Page 1 (Get image URL of each Project)**\n",
        "(This page the URL is different of the other pages)"
      ],
      "metadata": {
        "id": "MtO6AdPa0yqs"
      }
    },
    {
      "cell_type": "code",
      "source": [
        "base_url = \"https://www.acobir.com/proyectos/buscador/?category_search=2780&expresion_search=&price_range=0%2C1000000&page=\"\n",
        "response_IMG = requests.get(base_url)\n",
        "\n",
        "#Code for scrap URL of the project en page 1\n",
        "soup = BeautifulSoup(response_IMG.content, 'html.parser')\n",
        "\n",
        "\n",
        "# Use find_all to get all the <img> tags with class \"card-img-top lazyload\"\n",
        "imageslinks1 = soup.find_all(\"img\", class_=\"card-img-top lazyload\")\n",
        "\n",
        "images_urls= [] #New list fot images URL's\n",
        "\n",
        "# Iterate over the imageslinks1 to extract the data-src attribute and build the complete URL\n",
        "for img_tag in imageslinks1:\n",
        "    src_attribute = img_tag.get(\"data-src\")\n",
        "    if src_attribute:\n",
        "        full_url = \"https://www.acobir.com\" + src_attribute\n",
        "        images_urls.append(full_url)\n",
        "\n",
        "#Display our work in Step #3\n",
        "print(len(images_urls), \"Collected Image URL's\")\n",
        "print(images_urls)\n"
      ],
      "metadata": {
        "id": "53zBQKzLNjrA",
        "colab": {
          "base_uri": "https://localhost:8080/"
        },
        "outputId": "1a375506-e052-4c6b-d2a9-97128f89a1e8"
      },
      "execution_count": null,
      "outputs": [
        {
          "output_type": "stream",
          "name": "stdout",
          "text": [
            "9 Collected Image URL's\n",
            "['https://www.acobir.com/site/assets/files/2024/08/05/7044/amazonas-01-1.600x450.jpg', 'https://www.acobir.com/site/assets/files/2024/07/19/7020/8-tdn-render-edif5-exterior_1_11zon.600x450.jpg', 'https://www.acobir.com/site/assets/files/2024/06/12/6915/allure_1.600x450.jpg', 'https://www.acobir.com/site/assets/files/2024/06/12/6914/edge_1.600x450.jpg', 'https://www.acobir.com/site/assets/files/2024/06/12/6913/alexa_1.600x450.jpg', 'https://www.acobir.com/site/assets/files/2024/06/12/6911/diseno_sin_titulo_1-1.600x450.jpg', 'https://www.acobir.com/site/assets/files/2024/02/15/6720/torres_1.600x450.jpg', 'https://www.acobir.com/site/assets/files/2024/01/25/6673/1__fachada_ph_sabana_tower.600x450.jpg', 'https://www.acobir.com/site/assets/files/2023/11/23/6591/te01-2.600x450.jpg']\n"
          ]
        }
      ]
    },
    {
      "cell_type": "markdown",
      "source": [
        "**Step #4 - Web Scrapping Pages 2 to 8 (Get image URL of each Project)**"
      ],
      "metadata": {
        "id": "7fdy1y971pNC"
      }
    },
    {
      "cell_type": "code",
      "source": [
        "base_url3 = \"https://www.acobir.com/proyectos/buscador/page\"\n",
        "images_urls2 = []\n",
        "\n",
        "#Code for scrap URL of the project en pages 2 - 8 using a \"for\" loop\n",
        "for page in range(2, 8):\n",
        "    url = base_url3 + str(page) + \"?category_search=2780&price_range=0%2C1000000\"\n",
        "    response_IMG2 = requests.get(url)\n",
        "    soup = BeautifulSoup(response_IMG2.content, 'html.parser')\n",
        "    images_on_page = soup.find_all(\"img\", class_=\"card-img-top lazyload\")\n",
        "\n",
        "    # Iterate over the imgage_on_page to extract the data-src attribute build the complete URL\n",
        "    for img_tag in images_on_page:\n",
        "        src_attribute = img_tag.get(\"data-src\")\n",
        "        if src_attribute:\n",
        "            full_url2 = \"https://www.acobir.com\" + src_attribute\n",
        "            images_urls2.append(full_url2)\n",
        "\n",
        "#Display our work in Step #3\n",
        "print(len(images_urls2), \"Collected Image URL's\")\n",
        "\n",
        "#Combine the results of Step #3 and Step #4\n",
        "images_urls.extend(images_urls2)\n",
        "\n",
        "#Display our work in Step #3 and Step #4\n",
        "print(len(images_urls), \"Collected Image URL's in total\")\n",
        "print(images_urls)\n"
      ],
      "metadata": {
        "id": "DhsT50oXkj5u",
        "colab": {
          "base_uri": "https://localhost:8080/"
        },
        "outputId": "1e7c80d7-fd41-4229-c6bb-83ed1f2a8bb3"
      },
      "execution_count": null,
      "outputs": [
        {
          "output_type": "stream",
          "name": "stdout",
          "text": [
            "49 Collected Image URL's\n",
            "58 Collected Image URL's in total\n",
            "['https://www.acobir.com/site/assets/files/2024/08/05/7044/amazonas-01-1.600x450.jpg', 'https://www.acobir.com/site/assets/files/2024/07/19/7020/8-tdn-render-edif5-exterior_1_11zon.600x450.jpg', 'https://www.acobir.com/site/assets/files/2024/06/12/6915/allure_1.600x450.jpg', 'https://www.acobir.com/site/assets/files/2024/06/12/6914/edge_1.600x450.jpg', 'https://www.acobir.com/site/assets/files/2024/06/12/6913/alexa_1.600x450.jpg', 'https://www.acobir.com/site/assets/files/2024/06/12/6911/diseno_sin_titulo_1-1.600x450.jpg', 'https://www.acobir.com/site/assets/files/2024/02/15/6720/torres_1.600x450.jpg', 'https://www.acobir.com/site/assets/files/2024/01/25/6673/1__fachada_ph_sabana_tower.600x450.jpg', 'https://www.acobir.com/site/assets/files/2023/11/23/6591/te01-2.600x450.jpg', 'https://www.acobir.com/site/assets/files/2023/07/24/6315/ph_demetra_abr_2023-21.600x450.jpg', 'https://www.acobir.com/site/assets/files/2022/10/20/5727/prestige_torres_acobir_-06.600x450.jpg', 'https://www.acobir.com/site/assets/files/2022/09/26/5694/mansionbaluarterender5.600x450.jpg', 'https://www.acobir.com/site/assets/files/2022/09/26/5693/render_fachada_ajustada_final_low.600x450.jpg', 'https://www.acobir.com/site/assets/files/2022/09/22/5690/render_interno_casa_variedades.600x450.jpg', 'https://www.acobir.com/site/assets/files/2022/09/06/5675/whatsapp_image_2022-09-06_at_2_05_40_pm_3.600x450.jpeg', 'https://www.acobir.com/site/assets/files/2022/09/02/5668/foto_1_entrada.600x450.jpg', 'https://www.acobir.com/site/assets/files/2022/05/17/5537/captura_de_pantalla_2022-05-17_a_la_s_1_00_06_p__m.600x450.jpg', 'https://www.acobir.com/site/assets/files/2022/05/17/5536/fachada.600x450.jpg', 'https://www.acobir.com/site/assets/files/2022/05/16/5535/165_01_aurora_e_semiaerea.600x450.jpg', 'https://www.acobir.com/site/assets/files/2022/05/16/5534/165_03_balcony_peatonal-_1.600x450.jpg', 'https://www.acobir.com/site/assets/files/2022/05/16/5533/imagen_2.600x450.jpg', 'https://www.acobir.com/site/assets/files/2022/02/08/5416/fachada.600x450.jpg', 'https://www.acobir.com/site/assets/files/2021/10/20/5326/clayton_park_1.600x450.jpg', 'https://www.acobir.com/site/assets/files/2021/10/12/5319/a4a9576.600x450.jpg', 'https://www.acobir.com/site/assets/files/2021/10/08/5308/whatsapp_image_2022-02-25_at_3_18_41_pm_1.600x450.jpg', 'https://www.acobir.com/site/assets/files/2021/10/04/5292/apto_d-_comedor.600x450.jpg', 'https://www.acobir.com/site/assets/files/2021/06/22/5185/bayviewcintacostera.600x450.jpg', 'https://www.acobir.com/site/assets/files/2021/05/20/5101/the_sands_low_pantalla.600x450.jpg', 'https://www.acobir.com/site/assets/files/2021/05/20/5098/dia.600x450.jpg', 'https://www.acobir.com/site/assets/files/2020/07/10/3487/mondrian.600x450.jpg', 'https://www.acobir.com/site/assets/files/2020/05/12/3377/4afd6422-0f15-459f-add0-e91cc7f0048c.600x450.jpg', 'https://www.acobir.com/site/assets/files/2020/05/12/3381/2016-07-14-photo-00000044.600x450.jpg', 'https://www.acobir.com/site/assets/files/2020/04/03/3059/2.600x450.jpg', 'https://www.acobir.com/site/assets/files/2020/04/03/3058/5.600x450.jpg', 'https://www.acobir.com/site/assets/files/2020/04/03/3061/6.600x450.jpg', 'https://www.acobir.com/site/assets/files/2020/04/03/3062/9.600x450.jpg', 'https://www.acobir.com/site/assets/files/2020/04/03/3064/3.600x450.jpg', 'https://www.acobir.com/site/assets/files/2020/04/03/3060/54.600x450.jpg', 'https://www.acobir.com/site/assets/files/2020/04/03/3066/8543.600x450.jpg', 'https://www.acobir.com/site/assets/files/2020/04/02/3065/pool.600x450.jpg', 'https://www.acobir.com/site/assets/files/2020/04/02/3069/97c53095-b5c6-475f-9e7d-f9ac15a12b67.600x450.jpg', 'https://www.acobir.com/site/assets/files/2020/04/02/3067/360.600x450.jpg', 'https://www.acobir.com/site/assets/files/2020/04/02/3071/12_living-view-to-outside-1200x800_c.600x450.jpg', 'https://www.acobir.com/site/assets/files/2020/03/17/3094/living_cascoview.600x450.jpg', 'https://www.acobir.com/site/assets/files/2020/02/19/3116/dsc3091.600x450.jpg', 'https://www.acobir.com/site/assets/files/2020/02/15/3115/img_2153.600x450.jpg', 'https://www.acobir.com/site/assets/files/2020/02/15/3110/grupo_vivir_bonasita_tipo_cocina_cam01_post_night-1.600x450.jpg', 'https://www.acobir.com/site/assets/files/2020/02/15/3118/ikm_4576.600x450.jpg', 'https://www.acobir.com/site/assets/files/2020/02/15/3111/grupo_0_-ikm_4052_ikm_4053-2_images.600x450.jpg', 'https://www.acobir.com/site/assets/files/2020/02/14/3114/fachada2-paramount_1.600x450.jpg', 'https://www.acobir.com/site/assets/files/2020/01/22/3126/apto_64_m2_sierra_8.600x450.jpg', 'https://www.acobir.com/site/assets/files/2020/01/22/3127/portoalegre-7.600x450.jpg', 'https://www.acobir.com/site/assets/files/2020/01/22/3124/piscina_de_nin_os.600x450.jpeg', 'https://www.acobir.com/site/assets/files/2020/01/22/3123/hg_foto_5.600x450.jpg', 'https://www.acobir.com/site/assets/files/2020/01/22/3120/oficial_avin_on.600x450.jpg', 'https://www.acobir.com/site/assets/files/2020/01/16/3130/159_01_lov_cam_e_rooftop_02.600x450.jpg', 'https://www.acobir.com/site/assets/files/2020/01/13/3131/img_1562.600x450.jpg', 'https://www.acobir.com/site/assets/files/2020/01/07/3128/whatsapp_image_2018-03-17_at_12_09_33_pm_9.600x450.jpeg']\n"
          ]
        }
      ]
    },
    {
      "cell_type": "markdown",
      "source": [
        "**Step #5 - Build a function for web scraping for get the information of each project**"
      ],
      "metadata": {
        "id": "4xnKiDDs1tLt"
      }
    },
    {
      "cell_type": "code",
      "source": [
        "def scrape_property_info(url):\n",
        "    response = requests.get(url)\n",
        "    soup = BeautifulSoup(response.content, 'html.parser')\n",
        "\n",
        "    # Extracting name title\n",
        "    name = soup.find(class_=\"property-info head-info\")\n",
        "    name_title = name.find('h1').get_text(strip=True)\n",
        "    result = [name_title] #New list for the values and add names\n",
        "\n",
        "    # Extracting coordinates\n",
        "    cordinates = soup.find(class_=\"maparea\")\n",
        "\n",
        "    if cordinates:\n",
        "        lat = cordinates.get(\"maplat\")\n",
        "        lng = cordinates.get(\"maplng\")\n",
        "    else:\n",
        "        lat = lng = \"0\"\n",
        "\n",
        "    result.extend([lat, lng]) #Add cordinates information\n",
        "\n",
        "    # Extracting information from the 'character-general' class\n",
        "    inform = soup.find(class_=\"character-general\")\n",
        "    categoria_spans = inform.find_all('span', class_='stext')\n",
        "    categoria_texts = [span.get_text(strip=True) for span in categoria_spans]\n",
        "\n",
        "    result.extend(categoria_texts) #Add property information\n",
        "\n",
        "    return result\n",
        "\n"
      ],
      "metadata": {
        "id": "sFdDDybl9_kb"
      },
      "execution_count": null,
      "outputs": []
    },
    {
      "cell_type": "markdown",
      "source": [
        "**Step #6 - Collect all the data for all the url's using the funtion**"
      ],
      "metadata": {
        "id": "gbZ3SNRc1xtX"
      }
    },
    {
      "cell_type": "code",
      "source": [
        "property_info = [] #New repository for the information\n",
        "\n",
        "#Using a \"for\" lop for the function in the list of URL's obtained in Step #2.\n",
        "for url in more_info_links:\n",
        "    property_data = scrape_property_info(url)\n",
        "    property_info.append(property_data)\n",
        "    print(property_data)\n",
        "\n",
        "#Display our work in Step 36\n",
        "print(len(property_info), \"Collected Projects\")\n",
        "print(property_info)\n"
      ],
      "metadata": {
        "id": "h0yZOFhx13Zy",
        "colab": {
          "base_uri": "https://localhost:8080/",
          "height": 766
        },
        "outputId": "39b30ca5-5bec-49ec-bd17-e6e5c374b76d"
      },
      "execution_count": null,
      "outputs": [
        {
          "output_type": "stream",
          "name": "stdout",
          "text": [
            "['Amazonas · Bella Vista', '', '', 'Residencial', 'Pre-Venta', 'Apartamentos', '43m2', '1', '1', '$119,000']\n",
            "['Torres del Norte', '0', '0', 'Residencial', 'Pre-Venta', 'Apartamentos', '64.13m2', '3', '1.5', '$68,000']\n",
            "['Allure at Punta Pacífica', '8.9759526', '-79.5064391', 'Residencial', 'Pre-Venta', 'Apartamentos', '100m2', '3', '1.5', '$482,000']\n",
            "['The Edge Marbella', '8.9789744', '-79.5197546', 'Residencial', 'Pre-Venta', 'Apartamentos', '55m2', '1', '1', '$192,000']\n",
            "['Alexa Bella Vista', '8.9720401', '-79.5322177', 'Residencial', 'En Construcción', 'Apartamentos', '40m2', '1', '1', '$97,100']\n",
            "['Mi Condado', '9.027435', '-79.5233972', 'Residencial', 'En Construcción', 'Apartamentos', '74m2', '2', '1.5', '$159,000']\n",
            "['Torres de Castilla - Vía España', '8.999227', '-79.5172926', 'Residencial', 'Proyecto a Estrenar', 'Apartamentos', '86m2', '3', '1.5', '$181,360']\n",
            "['PH Sabana Tower', '', '', 'Residencial', 'Proyecto a Estrenar', 'Apartamentos', '99.7m2', '3', '2', '$176,960']\n",
            "['Torres de España', '0', '0', 'Residencial', 'Proyecto a Estrenar', 'Apartamentos', '70.14m2', '3', '1.5', '$82,798']\n",
            "['PH Demetra', '', '', 'Residencial', 'Proyecto a Estrenar', 'Apartamentos', '72m2', '2', '2', '$165,000']\n",
            "['Prestige Bella Vista', '8.9763157', '-79.5290786', 'Residencial', 'Proyecto a Estrenar', 'Apartamentos', '335m2', '4', '2.5', '$734,400']\n",
            "['Mansión Baluarte', '8.92035511848927', '-79.66230309846986', 'Residencial', 'Pre-Venta', 'Apartamentos', '52m2', '1', '1', '$240,000']\n",
            "['Santa Teresita Living', '8.9537897', '-79.5413914', 'Residencial', 'Pre-Venta', 'Apartamentos', '45m2', '1', '1', '$128,000']\n",
            "['Casa Variedades', '8.9533583', '-79.538922', 'Residencial', 'Pre-Venta', 'Apartamentos', '64m2', '1', '1.5', '$245,860']\n",
            "['Forest Gate en Albrook', '8.987291599999999', '-79.55980819999999', 'Residencial', 'En Construcción', 'Apartamentos', '67m2', '2', '2', '$174']\n",
            "['Mei Tower en Villa de las Fuentes', '9.0143805', '-79.5339805', 'Residencial', 'Proyecto a Estrenar', 'Apartamentos', '119m2', '3', '2', '$299']\n",
            "['Nostrum Obarrio', '8.984480103246497', '-79.5262025620442', 'Residencial', 'Pre-Venta', 'Apartamentos', '47m2', '2', '2', '$128,675']\n",
            "['MORE Vía Argentina', '8.9877873', '-79.5295436', 'Residencial', 'En Construcción', 'Apartamentos', '42.31m2', '2', '2', '$131,741']\n",
            "['PH AURORA', '', '', 'Residencial', 'Pre-Venta', 'Apartamentos', '120m2', '3', '2', '$310,000']\n",
            "['BALCONY', '', '', 'Residencial', 'En Construcción', 'Apartamentos', '76m2', '2', '2', '$198,000']\n",
            "['ALTAMIRA RESIDENCES', '', '', 'Residencial', 'Proyecto a Estrenar', 'Apartamentos', '107m2', '3', '2', '$260,000']\n",
            "['Lefevre 75', '9.016352293529657', '-79.49771358521343', 'Residencial', 'Proyecto a Estrenar', 'Apartamentos', '81m2', '3', '2', '$165,473']\n",
            "['Clayton Park', '9.004622', '-79.56949', 'Residencial', 'Proyecto a Estrenar', 'Apartamentos', '151.1m2', '3', '2', '$320,000']\n",
            "['Reserva Santa Fe - Apartamentos', '9.073773', '-79.364798', 'Residencial', 'Proyecto a Estrenar', 'Apartamentos', '62.04m2', '2', '1', '$80,000']\n",
            "['Torres de Cantabria', '9.053004193504224', '-79.42706968521321', 'Residencial', 'En Construcción', 'Apartamentos', '69.15m2', '2', '2', '$123,000']\n"
          ]
        },
        {
          "output_type": "error",
          "ename": "AttributeError",
          "evalue": "'NoneType' object has no attribute 'find'",
          "traceback": [
            "\u001b[0;31m---------------------------------------------------------------------------\u001b[0m",
            "\u001b[0;31mAttributeError\u001b[0m                            Traceback (most recent call last)",
            "\u001b[0;32m<ipython-input-6-7c46d77117c6>\u001b[0m in \u001b[0;36m<cell line: 4>\u001b[0;34m()\u001b[0m\n\u001b[1;32m      3\u001b[0m \u001b[0;31m#Using a \"for\" lop for the function in the list of URL's obtained in Step #2.\u001b[0m\u001b[0;34m\u001b[0m\u001b[0;34m\u001b[0m\u001b[0m\n\u001b[1;32m      4\u001b[0m \u001b[0;32mfor\u001b[0m \u001b[0murl\u001b[0m \u001b[0;32min\u001b[0m \u001b[0mmore_info_links\u001b[0m\u001b[0;34m:\u001b[0m\u001b[0;34m\u001b[0m\u001b[0;34m\u001b[0m\u001b[0m\n\u001b[0;32m----> 5\u001b[0;31m     \u001b[0mproperty_data\u001b[0m \u001b[0;34m=\u001b[0m \u001b[0mscrape_property_info\u001b[0m\u001b[0;34m(\u001b[0m\u001b[0murl\u001b[0m\u001b[0;34m)\u001b[0m\u001b[0;34m\u001b[0m\u001b[0;34m\u001b[0m\u001b[0m\n\u001b[0m\u001b[1;32m      6\u001b[0m     \u001b[0mproperty_info\u001b[0m\u001b[0;34m.\u001b[0m\u001b[0mappend\u001b[0m\u001b[0;34m(\u001b[0m\u001b[0mproperty_data\u001b[0m\u001b[0;34m)\u001b[0m\u001b[0;34m\u001b[0m\u001b[0;34m\u001b[0m\u001b[0m\n\u001b[1;32m      7\u001b[0m     \u001b[0mprint\u001b[0m\u001b[0;34m(\u001b[0m\u001b[0mproperty_data\u001b[0m\u001b[0;34m)\u001b[0m\u001b[0;34m\u001b[0m\u001b[0;34m\u001b[0m\u001b[0m\n",
            "\u001b[0;32m<ipython-input-5-d14ce4aa188e>\u001b[0m in \u001b[0;36mscrape_property_info\u001b[0;34m(url)\u001b[0m\n\u001b[1;32m      5\u001b[0m     \u001b[0;31m# Extracting name title\u001b[0m\u001b[0;34m\u001b[0m\u001b[0;34m\u001b[0m\u001b[0m\n\u001b[1;32m      6\u001b[0m     \u001b[0mname\u001b[0m \u001b[0;34m=\u001b[0m \u001b[0msoup\u001b[0m\u001b[0;34m.\u001b[0m\u001b[0mfind\u001b[0m\u001b[0;34m(\u001b[0m\u001b[0mclass_\u001b[0m\u001b[0;34m=\u001b[0m\u001b[0;34m\"property-info head-info\"\u001b[0m\u001b[0;34m)\u001b[0m\u001b[0;34m\u001b[0m\u001b[0;34m\u001b[0m\u001b[0m\n\u001b[0;32m----> 7\u001b[0;31m     \u001b[0mname_title\u001b[0m \u001b[0;34m=\u001b[0m \u001b[0mname\u001b[0m\u001b[0;34m.\u001b[0m\u001b[0mfind\u001b[0m\u001b[0;34m(\u001b[0m\u001b[0;34m'h1'\u001b[0m\u001b[0;34m)\u001b[0m\u001b[0;34m.\u001b[0m\u001b[0mget_text\u001b[0m\u001b[0;34m(\u001b[0m\u001b[0mstrip\u001b[0m\u001b[0;34m=\u001b[0m\u001b[0;32mTrue\u001b[0m\u001b[0;34m)\u001b[0m\u001b[0;34m\u001b[0m\u001b[0;34m\u001b[0m\u001b[0m\n\u001b[0m\u001b[1;32m      8\u001b[0m     \u001b[0mresult\u001b[0m \u001b[0;34m=\u001b[0m \u001b[0;34m[\u001b[0m\u001b[0mname_title\u001b[0m\u001b[0;34m]\u001b[0m \u001b[0;31m#New list for the values and add names\u001b[0m\u001b[0;34m\u001b[0m\u001b[0;34m\u001b[0m\u001b[0m\n\u001b[1;32m      9\u001b[0m \u001b[0;34m\u001b[0m\u001b[0m\n",
            "\u001b[0;31mAttributeError\u001b[0m: 'NoneType' object has no attribute 'find'"
          ]
        }
      ]
    },
    {
      "cell_type": "markdown",
      "source": [
        "**Step #7 - Build a Pandas Data Frame with the collected data**"
      ],
      "metadata": {
        "id": "KKsCzx9q1-Ek"
      }
    },
    {
      "cell_type": "code",
      "source": [
        "\n",
        "\n",
        "import pandas as pd\n",
        "\n",
        "# Define columns\n",
        "columns = ['Name', 'Latitude', 'Longitude', 'Type', 'Status', 'Category', 'Size', 'Rooms', 'Bathrooms', 'Price']\n",
        "\n",
        "# Use property_info to create DataFrame\n",
        "property_df = pd.DataFrame(property_info, columns=columns)\n",
        "\n",
        "#Add the URL and Images URL of each project\n",
        "property_df['Info_url'] = more_info_links\n",
        "property_df['image_url'] = images_urls\n",
        "\n",
        "property_df"
      ],
      "metadata": {
        "id": "FrL5K-46_XkH",
        "colab": {
          "base_uri": "https://localhost:8080/",
          "height": 356
        },
        "outputId": "d102c56b-cbe8-4029-c291-88d1ae4374ed"
      },
      "execution_count": null,
      "outputs": [
        {
          "output_type": "error",
          "ename": "ValueError",
          "evalue": "Length of values (59) does not match length of index (25)",
          "traceback": [
            "\u001b[0;31m---------------------------------------------------------------------------\u001b[0m",
            "\u001b[0;31mValueError\u001b[0m                                Traceback (most recent call last)",
            "\u001b[0;32m<ipython-input-7-ffe401385141>\u001b[0m in \u001b[0;36m<cell line: 10>\u001b[0;34m()\u001b[0m\n\u001b[1;32m      8\u001b[0m \u001b[0;34m\u001b[0m\u001b[0m\n\u001b[1;32m      9\u001b[0m \u001b[0;31m#Add the URL and Images URL of each project\u001b[0m\u001b[0;34m\u001b[0m\u001b[0;34m\u001b[0m\u001b[0m\n\u001b[0;32m---> 10\u001b[0;31m \u001b[0mproperty_df\u001b[0m\u001b[0;34m[\u001b[0m\u001b[0;34m'Info_url'\u001b[0m\u001b[0;34m]\u001b[0m \u001b[0;34m=\u001b[0m \u001b[0mmore_info_links\u001b[0m\u001b[0;34m\u001b[0m\u001b[0;34m\u001b[0m\u001b[0m\n\u001b[0m\u001b[1;32m     11\u001b[0m \u001b[0mproperty_df\u001b[0m\u001b[0;34m[\u001b[0m\u001b[0;34m'image_url'\u001b[0m\u001b[0;34m]\u001b[0m \u001b[0;34m=\u001b[0m \u001b[0mimages_urls\u001b[0m\u001b[0;34m\u001b[0m\u001b[0;34m\u001b[0m\u001b[0m\n\u001b[1;32m     12\u001b[0m \u001b[0;34m\u001b[0m\u001b[0m\n",
            "\u001b[0;32m/usr/local/lib/python3.10/dist-packages/pandas/core/frame.py\u001b[0m in \u001b[0;36m__setitem__\u001b[0;34m(self, key, value)\u001b[0m\n\u001b[1;32m   4089\u001b[0m         \u001b[0;32melse\u001b[0m\u001b[0;34m:\u001b[0m\u001b[0;34m\u001b[0m\u001b[0;34m\u001b[0m\u001b[0m\n\u001b[1;32m   4090\u001b[0m             \u001b[0;31m# set column\u001b[0m\u001b[0;34m\u001b[0m\u001b[0;34m\u001b[0m\u001b[0m\n\u001b[0;32m-> 4091\u001b[0;31m             \u001b[0mself\u001b[0m\u001b[0;34m.\u001b[0m\u001b[0m_set_item\u001b[0m\u001b[0;34m(\u001b[0m\u001b[0mkey\u001b[0m\u001b[0;34m,\u001b[0m \u001b[0mvalue\u001b[0m\u001b[0;34m)\u001b[0m\u001b[0;34m\u001b[0m\u001b[0;34m\u001b[0m\u001b[0m\n\u001b[0m\u001b[1;32m   4092\u001b[0m \u001b[0;34m\u001b[0m\u001b[0m\n\u001b[1;32m   4093\u001b[0m     \u001b[0;32mdef\u001b[0m \u001b[0m_setitem_slice\u001b[0m\u001b[0;34m(\u001b[0m\u001b[0mself\u001b[0m\u001b[0;34m,\u001b[0m \u001b[0mkey\u001b[0m\u001b[0;34m:\u001b[0m \u001b[0mslice\u001b[0m\u001b[0;34m,\u001b[0m \u001b[0mvalue\u001b[0m\u001b[0;34m)\u001b[0m \u001b[0;34m->\u001b[0m \u001b[0;32mNone\u001b[0m\u001b[0;34m:\u001b[0m\u001b[0;34m\u001b[0m\u001b[0;34m\u001b[0m\u001b[0m\n",
            "\u001b[0;32m/usr/local/lib/python3.10/dist-packages/pandas/core/frame.py\u001b[0m in \u001b[0;36m_set_item\u001b[0;34m(self, key, value)\u001b[0m\n\u001b[1;32m   4298\u001b[0m         \u001b[0mensure\u001b[0m \u001b[0mhomogeneity\u001b[0m\u001b[0;34m.\u001b[0m\u001b[0;34m\u001b[0m\u001b[0;34m\u001b[0m\u001b[0m\n\u001b[1;32m   4299\u001b[0m         \"\"\"\n\u001b[0;32m-> 4300\u001b[0;31m         \u001b[0mvalue\u001b[0m\u001b[0;34m,\u001b[0m \u001b[0mrefs\u001b[0m \u001b[0;34m=\u001b[0m \u001b[0mself\u001b[0m\u001b[0;34m.\u001b[0m\u001b[0m_sanitize_column\u001b[0m\u001b[0;34m(\u001b[0m\u001b[0mvalue\u001b[0m\u001b[0;34m)\u001b[0m\u001b[0;34m\u001b[0m\u001b[0;34m\u001b[0m\u001b[0m\n\u001b[0m\u001b[1;32m   4301\u001b[0m \u001b[0;34m\u001b[0m\u001b[0m\n\u001b[1;32m   4302\u001b[0m         if (\n",
            "\u001b[0;32m/usr/local/lib/python3.10/dist-packages/pandas/core/frame.py\u001b[0m in \u001b[0;36m_sanitize_column\u001b[0;34m(self, value)\u001b[0m\n\u001b[1;32m   5037\u001b[0m \u001b[0;34m\u001b[0m\u001b[0m\n\u001b[1;32m   5038\u001b[0m         \u001b[0;32mif\u001b[0m \u001b[0mis_list_like\u001b[0m\u001b[0;34m(\u001b[0m\u001b[0mvalue\u001b[0m\u001b[0;34m)\u001b[0m\u001b[0;34m:\u001b[0m\u001b[0;34m\u001b[0m\u001b[0;34m\u001b[0m\u001b[0m\n\u001b[0;32m-> 5039\u001b[0;31m             \u001b[0mcom\u001b[0m\u001b[0;34m.\u001b[0m\u001b[0mrequire_length_match\u001b[0m\u001b[0;34m(\u001b[0m\u001b[0mvalue\u001b[0m\u001b[0;34m,\u001b[0m \u001b[0mself\u001b[0m\u001b[0;34m.\u001b[0m\u001b[0mindex\u001b[0m\u001b[0;34m)\u001b[0m\u001b[0;34m\u001b[0m\u001b[0;34m\u001b[0m\u001b[0m\n\u001b[0m\u001b[1;32m   5040\u001b[0m         \u001b[0;32mreturn\u001b[0m \u001b[0msanitize_array\u001b[0m\u001b[0;34m(\u001b[0m\u001b[0mvalue\u001b[0m\u001b[0;34m,\u001b[0m \u001b[0mself\u001b[0m\u001b[0;34m.\u001b[0m\u001b[0mindex\u001b[0m\u001b[0;34m,\u001b[0m \u001b[0mcopy\u001b[0m\u001b[0;34m=\u001b[0m\u001b[0;32mTrue\u001b[0m\u001b[0;34m,\u001b[0m \u001b[0mallow_2d\u001b[0m\u001b[0;34m=\u001b[0m\u001b[0;32mTrue\u001b[0m\u001b[0;34m)\u001b[0m\u001b[0;34m,\u001b[0m \u001b[0;32mNone\u001b[0m\u001b[0;34m\u001b[0m\u001b[0;34m\u001b[0m\u001b[0m\n\u001b[1;32m   5041\u001b[0m \u001b[0;34m\u001b[0m\u001b[0m\n",
            "\u001b[0;32m/usr/local/lib/python3.10/dist-packages/pandas/core/common.py\u001b[0m in \u001b[0;36mrequire_length_match\u001b[0;34m(data, index)\u001b[0m\n\u001b[1;32m    559\u001b[0m     \"\"\"\n\u001b[1;32m    560\u001b[0m     \u001b[0;32mif\u001b[0m \u001b[0mlen\u001b[0m\u001b[0;34m(\u001b[0m\u001b[0mdata\u001b[0m\u001b[0;34m)\u001b[0m \u001b[0;34m!=\u001b[0m \u001b[0mlen\u001b[0m\u001b[0;34m(\u001b[0m\u001b[0mindex\u001b[0m\u001b[0;34m)\u001b[0m\u001b[0;34m:\u001b[0m\u001b[0;34m\u001b[0m\u001b[0;34m\u001b[0m\u001b[0m\n\u001b[0;32m--> 561\u001b[0;31m         raise ValueError(\n\u001b[0m\u001b[1;32m    562\u001b[0m             \u001b[0;34m\"Length of values \"\u001b[0m\u001b[0;34m\u001b[0m\u001b[0;34m\u001b[0m\u001b[0m\n\u001b[1;32m    563\u001b[0m             \u001b[0;34mf\"({len(data)}) \"\u001b[0m\u001b[0;34m\u001b[0m\u001b[0;34m\u001b[0m\u001b[0m\n",
            "\u001b[0;31mValueError\u001b[0m: Length of values (59) does not match length of index (25)"
          ]
        }
      ]
    },
    {
      "cell_type": "markdown",
      "source": [
        "**Step #8 - Convert the Data frame to csv file**"
      ],
      "metadata": {
        "id": "W6mxKVDE2F7L"
      }
    },
    {
      "cell_type": "code",
      "source": [
        "property_df.to_csv('property_data_final.csv', index=False)\n",
        "\n",
        "#Finally this csv file was uploaded to a GitHub Repository for the next processes\n",
        "\n",
        "#Test of the file in GitHub Repository\n",
        "property_data = pd.read_csv('https://raw.githubusercontent.com/eiig26/public_data/main/property_data_final.csv')\n",
        "property_data.head()"
      ],
      "metadata": {
        "id": "Y6yHCNTTEjHl"
      },
      "execution_count": null,
      "outputs": []
    }
  ]
}